{
  "nbformat": 4,
  "nbformat_minor": 0,
  "metadata": {
    "colab": {
      "provenance": [],
      "authorship_tag": "ABX9TyN/XwxGoVDGQsEEbvVEm/27",
      "include_colab_link": true
    },
    "kernelspec": {
      "name": "python3",
      "display_name": "Python 3"
    },
    "language_info": {
      "name": "python"
    }
  },
  "cells": [
    {
      "cell_type": "markdown",
      "metadata": {
        "id": "view-in-github",
        "colab_type": "text"
      },
      "source": [
        "<a href=\"https://colab.research.google.com/github/farazzashraf/LGMVIP--DataScience/blob/main/Music_Recommendation_3.ipynb\" target=\"_parent\"><img src=\"https://colab.research.google.com/assets/colab-badge.svg\" alt=\"Open In Colab\"/></a>"
      ]
    },
    {
      "cell_type": "markdown",
      "source": [
        "## Music Recommendation System"
      ],
      "metadata": {
        "id": "u5kHWguvnSiX"
      }
    },
    {
      "cell_type": "code",
      "source": [
        "# Importing the libraries\n",
        "import pandas as pd\n",
        "import numpy as np\n",
        "from lightfm import LightFM\n",
        "from sklearn.preprocessing import LabelEncoder\n",
        "from scipy.sparse import coo_matrix\n",
        "from lightfm.evaluation import precision_at_k"
      ],
      "metadata": {
        "id": "PlJ59LM9nh_G"
      },
      "execution_count": 41,
      "outputs": []
    },
    {
      "cell_type": "code",
      "source": [
        "# Step 1: Loading the datasets\n",
        "train_songs = pd.read_csv(\"train songs.csv\")\n",
        "song_extra_info = pd.read_csv(\"song_extra_info.csv\")\n",
        "songs_info = pd.read_csv(\"songs.csv\")\n",
        "\n",
        "# Dropping a na values\n",
        "train_songs = train_songs.dropna()\n",
        "song_extra_info = song_extra_info.dropna()\n",
        "songs_info = songs_info.dropna()"
      ],
      "metadata": {
        "id": "hobhgrV5oI2z"
      },
      "execution_count": 42,
      "outputs": []
    },
    {
      "cell_type": "code",
      "source": [
        "# Step 2 Merging the dataset\n",
        "merged_songs = train_songs.merge(song_extra_info[['song_id', 'name']], on='song_id', how='left')\n",
        "merged_songs = merged_songs.merge(songs_info[['song_id', 'artist_name', 'lyricist']], on='song_id', how='left')\n",
        "\n",
        "merged_songs = merged_songs.dropna()\n",
        "\n",
        "# Step 3: creating a mapping of user and song ids to their repective indices\n",
        "label_encoder = LabelEncoder()\n",
        "merged_songs['msno'] = label_encoder.fit_transform(merged_songs['msno'])\n",
        "merged_songs['song_id'] = label_encoder.fit_transform(merged_songs['song_id'])\n",
        "\n",
        "user_mapping = {user_id: user_idx for user_idx, user_id in enumerate(merged_songs['msno'].unique())}\n",
        "song_mapping = {song_id: song_idx for song_idx, song_id in enumerate(merged_songs['song_id'].unique())}"
      ],
      "metadata": {
        "id": "VK9Blp3Zo--H",
        "colab": {
          "base_uri": "https://localhost:8080/"
        },
        "outputId": "f80e9fff-4a29-4bee-b565-583261347a0a"
      },
      "execution_count": 43,
      "outputs": [
        {
          "output_type": "stream",
          "name": "stderr",
          "text": [
            "<ipython-input-43-787b131f467d>:9: SettingWithCopyWarning: \n",
            "A value is trying to be set on a copy of a slice from a DataFrame.\n",
            "Try using .loc[row_indexer,col_indexer] = value instead\n",
            "\n",
            "See the caveats in the documentation: https://pandas.pydata.org/pandas-docs/stable/user_guide/indexing.html#returning-a-view-versus-a-copy\n",
            "  merged_songs['msno'] = label_encoder.fit_transform(merged_songs['msno'])\n",
            "<ipython-input-43-787b131f467d>:10: SettingWithCopyWarning: \n",
            "A value is trying to be set on a copy of a slice from a DataFrame.\n",
            "Try using .loc[row_indexer,col_indexer] = value instead\n",
            "\n",
            "See the caveats in the documentation: https://pandas.pydata.org/pandas-docs/stable/user_guide/indexing.html#returning-a-view-versus-a-copy\n",
            "  merged_songs['song_id'] = label_encoder.fit_transform(merged_songs['song_id'])\n"
          ]
        }
      ]
    },
    {
      "cell_type": "code",
      "source": [
        "# Step 4: Creating interaction matrices\n",
        "train_interactions = coo_matrix((np.ones(len(merged_songs), dtype=np.float32),\n",
        "                                 (merged_songs['msno'], merged_songs['song_id'])),\n",
        "                                shape=(len(user_mapping), len(song_mapping)))\n",
        "\n",
        "# Step 5: Training the model\n",
        "model = LightFM(loss='warp') # using the WARP loss function for implicit feedback data\n",
        "model.fit(train_interactions, epochs=10, num_threads=2)"
      ],
      "metadata": {
        "colab": {
          "base_uri": "https://localhost:8080/"
        },
        "id": "8DON6wh7qrfE",
        "outputId": "5b6a62b7-b9e5-458f-ccef-31e0e588d4b7"
      },
      "execution_count": 44,
      "outputs": [
        {
          "output_type": "execute_result",
          "data": {
            "text/plain": [
              "<lightfm.lightfm.LightFM at 0x7e09fe4f6530>"
            ]
          },
          "metadata": {},
          "execution_count": 44
        }
      ]
    },
    {
      "cell_type": "code",
      "source": [
        "# Getting recommendation for the a user\n",
        "user_id = int(input(\"User ID = \"))\n",
        "if user_id not in user_mapping:\n",
        "  raise ValueError(f\"User ID '{user_id}' is not present in the label encoder's mapping.\")\n",
        "\n",
        "user_index = user_mapping[user_id]\n",
        "n_items = len(song_mapping)\n",
        "scores = model.predict(user_index, np.arange(n_items))\n",
        "top_item_indices = np.argsort(-scores)[:10]\n",
        "top_item_ids = [k for k, v in song_mapping.items() if v in top_item_indices]\n",
        "top_item_titles = merged_songs.loc[merged_songs['song_id'].isin(top_item_ids), ['name', 'artist_name', 'lyricist']]\n",
        "\n",
        "# Getting the scores for the top recommendd songs\n",
        "top_scores = scores[top_item_indices]\n",
        "\n",
        "# Print the top recommend songs and scores vertically\n",
        "print(f\"Top recommendations for user {user_id}:\")\n",
        "\n",
        "for i, (song_title, artist_name, lyricist, score) in enumerate(zip(top_item_titles['name'], top_item_titles['artist_name'],\n",
        "                                                    top_item_titles['lyricist'], top_scores), 1):\n",
        "  print(f\"{i}, Song: {song_title}\")\n",
        "  print(f\"{i}, Artist: {artist_name}\")\n",
        "  print(f\"{i}, Lyricist: {lyricist}\")\n",
        "  print(f\"{i}, Score: {score:.2f}\")\n",
        "  print()"
      ],
      "metadata": {
        "colab": {
          "base_uri": "https://localhost:8080/"
        },
        "id": "bfSdebsIrv3d",
        "outputId": "86e785f1-4ae1-4f95-b122-2dab228308af"
      },
      "execution_count": 45,
      "outputs": [
        {
          "output_type": "stream",
          "name": "stdout",
          "text": [
            "User ID = 45\n",
            "Top recommendations for user 45:\n",
            "1, Song: Me Too\n",
            "1, Artist: Meghan Trainor\n",
            "1, Lyricist: Meghan Trainor| Eric Frederic| Jacob Kasher Hindlin| Jason Desrouleaux| Peter Svensson\n",
            "1, Score: 1.67\n",
            "\n",
            "2, Song: Me Too\n",
            "2, Artist: Meghan Trainor\n",
            "2, Lyricist: Meghan Trainor| Eric Frederic| Jacob Kasher Hindlin| Jason Desrouleaux| Peter Svensson\n",
            "2, Score: 1.46\n",
            "\n",
            "3, Song: Me Too\n",
            "3, Artist: Meghan Trainor\n",
            "3, Lyricist: Meghan Trainor| Eric Frederic| Jacob Kasher Hindlin| Jason Desrouleaux| Peter Svensson\n",
            "3, Score: 1.46\n",
            "\n",
            "4, Song: Me Too\n",
            "4, Artist: Meghan Trainor\n",
            "4, Lyricist: Meghan Trainor| Eric Frederic| Jacob Kasher Hindlin| Jason Desrouleaux| Peter Svensson\n",
            "4, Score: 1.43\n",
            "\n",
            "5, Song: Me Too\n",
            "5, Artist: Meghan Trainor\n",
            "5, Lyricist: Meghan Trainor| Eric Frederic| Jacob Kasher Hindlin| Jason Desrouleaux| Peter Svensson\n",
            "5, Score: 1.26\n",
            "\n",
            "6, Song: Me Too\n",
            "6, Artist: Meghan Trainor\n",
            "6, Lyricist: Meghan Trainor| Eric Frederic| Jacob Kasher Hindlin| Jason Desrouleaux| Peter Svensson\n",
            "6, Score: 1.25\n",
            "\n",
            "7, Song: Me Too\n",
            "7, Artist: Meghan Trainor\n",
            "7, Lyricist: Meghan Trainor| Eric Frederic| Jacob Kasher Hindlin| Jason Desrouleaux| Peter Svensson\n",
            "7, Score: 1.21\n",
            "\n",
            "8, Song: 只因爲你 (Because of you)\n",
            "8, Artist: 張棟樑 (Nicholas Teo)\n",
            "8, Lyricist: Zhang Guo Xiang\n",
            "8, Score: 1.20\n",
            "\n",
            "9, Song: Me Too\n",
            "9, Artist: Meghan Trainor\n",
            "9, Lyricist: Meghan Trainor| Eric Frederic| Jacob Kasher Hindlin| Jason Desrouleaux| Peter Svensson\n",
            "9, Score: 1.19\n",
            "\n",
            "10, Song: 黑武士\n",
            "10, Artist: 林俊傑 (JJ Lin)\n",
            "10, Lyricist: 五月天阿信\n",
            "10, Score: 1.15\n",
            "\n"
          ]
        }
      ]
    },
    {
      "cell_type": "code",
      "source": [],
      "metadata": {
        "id": "v7DiybU-uw2u"
      },
      "execution_count": 45,
      "outputs": []
    }
  ]
}
